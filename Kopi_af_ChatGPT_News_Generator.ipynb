{
  "nbformat": 4,
  "nbformat_minor": 0,
  "metadata": {
    "colab": {
      "provenance": [],
      "private_outputs": true,
      "include_colab_link": true
    },
    "kernelspec": {
      "name": "python3",
      "display_name": "Python 3"
    },
    "language_info": {
      "name": "python"
    }
  },
  "cells": [
    {
      "cell_type": "markdown",
      "metadata": {
        "id": "view-in-github",
        "colab_type": "text"
      },
      "source": [
        "<a href=\"https://colab.research.google.com/github/PeteeDK/Colab-Notebooks/blob/main/Kopi_af_ChatGPT_News_Generator.ipynb\" target=\"_parent\"><img src=\"https://colab.research.google.com/assets/colab-badge.svg\" alt=\"Open In Colab\"/></a>"
      ]
    },
    {
      "cell_type": "markdown",
      "source": [
        "#News generator"
      ],
      "metadata": {
        "id": "wRaQ4yNKXyFA"
      }
    },
    {
      "cell_type": "markdown",
      "source": [
        "###Install OpenAI components"
      ],
      "metadata": {
        "id": "R_M3C873eegq"
      }
    },
    {
      "cell_type": "code",
      "execution_count": null,
      "metadata": {
        "id": "mW4Wx25zsIPC"
      },
      "outputs": [],
      "source": [
        "pip install openai"
      ]
    },
    {
      "cell_type": "code",
      "source": [
        "pip install python-dotenv"
      ],
      "metadata": {
        "id": "zoG7LD58sV6F"
      },
      "execution_count": null,
      "outputs": []
    },
    {
      "cell_type": "markdown",
      "source": [
        "###Import various software libraries"
      ],
      "metadata": {
        "id": "U-TA7nk-20Tf"
      }
    },
    {
      "cell_type": "code",
      "source": [
        "import time\n",
        "import pprint\n",
        "from google.colab import output"
      ],
      "metadata": {
        "id": "0sRrjYUg29Mw"
      },
      "execution_count": null,
      "outputs": []
    },
    {
      "cell_type": "markdown",
      "source": [
        "###Mount Google Drive"
      ],
      "metadata": {
        "id": "nuqf1lJ3gHVD"
      }
    },
    {
      "cell_type": "code",
      "source": [
        "from google.colab import drive\n",
        "drive.mount('/content/drive')"
      ],
      "metadata": {
        "id": "umDyiesRsj8U"
      },
      "execution_count": null,
      "outputs": []
    },
    {
      "cell_type": "code",
      "source": [
        "from dotenv import load_dotenv"
      ],
      "metadata": {
        "id": "Np47jgufsvjC"
      },
      "execution_count": null,
      "outputs": []
    },
    {
      "cell_type": "markdown",
      "source": [
        "###Load .env file"
      ],
      "metadata": {
        "id": "mFHzjazGgvq2"
      }
    },
    {
      "cell_type": "code",
      "source": [
        "load_dotenv('drive/My Drive/Colab Notebooks/.env')"
      ],
      "metadata": {
        "id": "0fFuJL4Vs7Kx"
      },
      "execution_count": null,
      "outputs": []
    },
    {
      "cell_type": "markdown",
      "source": [
        "###Initialize Open AI client"
      ],
      "metadata": {
        "id": "nnOzY4EkhAQG"
      }
    },
    {
      "cell_type": "code",
      "source": [
        "from openai import OpenAI as openai"
      ],
      "metadata": {
        "id": "2gSFihVstLPH"
      },
      "execution_count": null,
      "outputs": []
    },
    {
      "cell_type": "code",
      "source": [
        "import os\n",
        "openai.api_key = os.getenv(\"OPENAI_API_KEY\")\n",
        "openai.api_key"
      ],
      "metadata": {
        "id": "EiQPc5lgtUMo"
      },
      "execution_count": null,
      "outputs": []
    },
    {
      "cell_type": "code",
      "source": [
        "client = openai()\n"
      ],
      "metadata": {
        "id": "ieGjr5HqtfWv"
      },
      "execution_count": null,
      "outputs": []
    },
    {
      "cell_type": "markdown",
      "source": [
        "###Initialize news variables"
      ],
      "metadata": {
        "id": "zP1RaXKt3OFb"
      }
    },
    {
      "cell_type": "code",
      "source": [
        "news1=\"Some news 1\"\n",
        "news2=\"Some news 2\"\n",
        "news3=\"Some news 3\"\n",
        "news4=\"Some news 4\""
      ],
      "metadata": {
        "id": "2i5W8l4Ft4zD"
      },
      "execution_count": null,
      "outputs": []
    },
    {
      "cell_type": "markdown",
      "source": [
        "###Base prompt"
      ],
      "metadata": {
        "id": "RtWDzJ1r7lmx"
      }
    },
    {
      "cell_type": "code",
      "source": [
        "prompt_role = '''You are an assistant for journalists.\n",
        "Your task is to write articles, based on the FACTS that are given to you.\n",
        "You should respect the instructions: the TONE, the LENGTH, and the STYLE'''"
      ],
      "metadata": {
        "id": "FHiJJURH7vCq"
      },
      "execution_count": null,
      "outputs": []
    },
    {
      "cell_type": "markdown",
      "source": [
        "###ChapGPT routines for generating news"
      ],
      "metadata": {
        "id": "0eq2R_S176En"
      }
    },
    {
      "cell_type": "code",
      "source": [
        "def ask_chatgpt(messages):\n",
        "    response = client.chat.completions.create(model=\"gpt-3.5-turbo\",\n",
        "                                              messages=messages)\n",
        "    return (response.choices[0].message.content)\n"
      ],
      "metadata": {
        "id": "Ac_UloC1xsUE"
      },
      "execution_count": null,
      "outputs": []
    },
    {
      "cell_type": "code",
      "source": [
        "def assist_journalist(\n",
        "        facts ,\n",
        "        tone: str, length_words: int, style: str):\n",
        "    facts = \", \".join(facts)\n",
        "    prompt = f'{prompt_role}\\nFACTS: {facts}\\nTONE: {tone}\\nLENGTH: {length_words} words\\nSTYLE: {style}'\n",
        "    print(\"Prompt:\")\n",
        "    pprint.pprint(prompt)\n",
        "    return ask_chatgpt([{\"role\": \"user\", \"content\": prompt}])"
      ],
      "metadata": {
        "id": "gHd22QUiyPZz"
      },
      "execution_count": null,
      "outputs": []
    },
    {
      "cell_type": "markdown",
      "source": [
        "###Generate news no. 1"
      ],
      "metadata": {
        "id": "MUvc8UXBwGSe"
      }
    },
    {
      "cell_type": "code",
      "source": [
        "facts1 = ['Donald Trump elected for president', 'Putin is confused']\n",
        "tone1 = 'formal'\n",
        "length_words1 = 100\n",
        "style1 = 'blogpost'"
      ],
      "metadata": {
        "id": "gVj4VS2VoW4H"
      },
      "execution_count": null,
      "outputs": []
    },
    {
      "cell_type": "code",
      "source": [
        "news1= assist_journalist(facts1, tone1, length_words1, style1)\n",
        "print()\n",
        "print(\"Response:\")\n",
        "news1"
      ],
      "metadata": {
        "id": "VLdnrznQkIxi"
      },
      "execution_count": null,
      "outputs": []
    },
    {
      "cell_type": "markdown",
      "source": [
        "###Generate news no. 2"
      ],
      "metadata": {
        "id": "4pziSlNXwiHe"
      }
    },
    {
      "cell_type": "code",
      "source": [
        "#facts2 = ['fact 1', 'fact 2']\n",
        "facts2 = ['Donald Trump lost to George Clooney', 'The queen of England is said to have risen again']\n",
        "tone2 = 'formal'\n",
        "length_words2 = 100\n",
        "style2 = 'blogpost'"
      ],
      "metadata": {
        "id": "x5FlrlLltggw"
      },
      "execution_count": null,
      "outputs": []
    },
    {
      "cell_type": "code",
      "source": [
        "news2= assist_journalist(facts2, tone2, length_words2, style2)\n",
        "print()\n",
        "print(\"Response:\")\n",
        "news2"
      ],
      "metadata": {
        "id": "jpF2IVHOwHtl"
      },
      "execution_count": null,
      "outputs": []
    },
    {
      "cell_type": "markdown",
      "source": [
        "###Generate news no. 3"
      ],
      "metadata": {
        "id": "VoDBw9EGwzWc"
      }
    },
    {
      "cell_type": "code",
      "source": [
        "facts3 = ['fact 1', 'fact 2', 'fact 3']\n",
        "tone3 = 'formal'\n",
        "length_words3 = 100\n",
        "style3 = 'blogpost'"
      ],
      "metadata": {
        "id": "DjQCXzebw3Kh"
      },
      "execution_count": null,
      "outputs": []
    },
    {
      "cell_type": "code",
      "source": [
        "news3= assist_journalist(facts3, tone3, length_words3, style3)\n",
        "print()\n",
        "print(\"Response:\")\n",
        "news3"
      ],
      "metadata": {
        "id": "XVAEMTU1xdFn"
      },
      "execution_count": null,
      "outputs": []
    },
    {
      "cell_type": "markdown",
      "source": [
        "###Generate news no. 4"
      ],
      "metadata": {
        "id": "bJGO4l9Zx4fA"
      }
    },
    {
      "cell_type": "code",
      "source": [
        "facts4 = ['fact 1', 'fact 2', 'fact 3']\n",
        "tone4 = 'formal'\n",
        "length_words4 = 100\n",
        "style4 = 'blogpost'"
      ],
      "metadata": {
        "id": "HmErFl8fx8OM"
      },
      "execution_count": null,
      "outputs": []
    },
    {
      "cell_type": "code",
      "source": [
        "news4= assist_journalist(facts4, tone4, length_words4, style4)\n",
        "print()\n",
        "print(\"Response:\")\n",
        "news4"
      ],
      "metadata": {
        "id": "ZJtYRxuQyJHJ"
      },
      "execution_count": null,
      "outputs": []
    },
    {
      "cell_type": "markdown",
      "source": [
        "###The news display"
      ],
      "metadata": {
        "id": "BD7R-fC-usl3"
      }
    },
    {
      "cell_type": "code",
      "source": [
        "for count in range(5):\n",
        "    output.clear()\n",
        "    pprint.pprint(news1)\n",
        "    time.sleep(5)\n",
        "    output.clear()\n",
        "    pprint.pprint(news2)\n",
        "    time.sleep(5)\n",
        "    output.clear()\n",
        "    pprint.pprint(news3)\n",
        "    time.sleep(5)\n",
        "    output.clear()\n",
        "    pprint.pprint(news4)\n",
        "    time.sleep(5)"
      ],
      "metadata": {
        "id": "4_fEyArPjWTi"
      },
      "execution_count": null,
      "outputs": []
    },
    {
      "cell_type": "markdown",
      "source": [
        "#Exercises"
      ],
      "metadata": {
        "id": "5OxJTp9I9Cqc"
      }
    },
    {
      "cell_type": "markdown",
      "source": [
        "\n",
        "\n",
        "1.   Provide 'facts' for news items 2, 3 and 4 so the chat reponses makes sense. Vary on style and tone as appropriate\n",
        "2.   State your observations what 'facts' that makes no-nonsense 'news'\n",
        "3.   Briefly describe the business processes that properly could support news generation as performed above. Also consider technical issues.\n",
        "\n",
        "\n",
        "\n",
        "\n"
      ],
      "metadata": {
        "id": "lAont_HU9GiN"
      }
    },
    {
      "cell_type": "markdown",
      "source": [
        "2. Det er utroligt nemt at lave manipulerende nyheder ved hjælp at en Chatbot. Disse chatbots har endda nået et punkt hvor de kan skrive som en professionel journalist og derved gør de \"fake news\" mere troværdige.\n",
        "\n",
        "3. Enhver nyhedsstation kunne som sådan godt bruge sådanne en chatbot til at skrive deres nyheder. De skal dog sikkre sig at de har valideret det fakta som de sætter botten til at skrive om."
      ],
      "metadata": {
        "id": "i_Ycg5FWIx51"
      }
    },
    {
      "cell_type": "markdown",
      "source": [
        "\n"
      ],
      "metadata": {
        "id": "6GTfoudOT3_p"
      }
    },
    {
      "cell_type": "code",
      "source": [],
      "metadata": {
        "id": "knTrFId0T3nM"
      },
      "execution_count": null,
      "outputs": []
    }
  ]
}