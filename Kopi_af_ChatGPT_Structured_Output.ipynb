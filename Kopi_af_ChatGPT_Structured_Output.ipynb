{
  "nbformat": 4,
  "nbformat_minor": 0,
  "metadata": {
    "colab": {
      "provenance": [],
      "private_outputs": true,
      "include_colab_link": true
    },
    "kernelspec": {
      "name": "python3",
      "display_name": "Python 3"
    },
    "language_info": {
      "name": "python"
    }
  },
  "cells": [
    {
      "cell_type": "markdown",
      "metadata": {
        "id": "view-in-github",
        "colab_type": "text"
      },
      "source": [
        "<a href=\"https://colab.research.google.com/github/PeteeDK/Colab-Notebooks/blob/main/Kopi_af_ChatGPT_Structured_Output.ipynb\" target=\"_parent\"><img src=\"https://colab.research.google.com/assets/colab-badge.svg\" alt=\"Open In Colab\"/></a>"
      ]
    },
    {
      "cell_type": "markdown",
      "source": [
        "#Structured output fra prompts"
      ],
      "metadata": {
        "id": "wRaQ4yNKXyFA"
      }
    },
    {
      "cell_type": "markdown",
      "source": [
        "###Install OpenAI components"
      ],
      "metadata": {
        "id": "R_M3C873eegq"
      }
    },
    {
      "cell_type": "code",
      "execution_count": null,
      "metadata": {
        "id": "mW4Wx25zsIPC"
      },
      "outputs": [],
      "source": [
        "pip install openai"
      ]
    },
    {
      "cell_type": "code",
      "source": [
        "pip install python-dotenv"
      ],
      "metadata": {
        "id": "zoG7LD58sV6F"
      },
      "execution_count": null,
      "outputs": []
    },
    {
      "cell_type": "markdown",
      "source": [
        "###Mount Google Drive"
      ],
      "metadata": {
        "id": "nuqf1lJ3gHVD"
      }
    },
    {
      "cell_type": "code",
      "source": [
        "from google.colab import drive\n",
        "drive.mount('/content/drive')"
      ],
      "metadata": {
        "id": "umDyiesRsj8U"
      },
      "execution_count": null,
      "outputs": []
    },
    {
      "cell_type": "code",
      "source": [
        "from dotenv import load_dotenv"
      ],
      "metadata": {
        "id": "Np47jgufsvjC"
      },
      "execution_count": null,
      "outputs": []
    },
    {
      "cell_type": "markdown",
      "source": [
        "###Load .env file"
      ],
      "metadata": {
        "id": "mFHzjazGgvq2"
      }
    },
    {
      "cell_type": "code",
      "source": [
        "load_dotenv('drive/My Drive/Colab Notebooks/.env')"
      ],
      "metadata": {
        "id": "0fFuJL4Vs7Kx"
      },
      "execution_count": null,
      "outputs": []
    },
    {
      "cell_type": "markdown",
      "source": [
        "###Initialize Open AI client"
      ],
      "metadata": {
        "id": "nnOzY4EkhAQG"
      }
    },
    {
      "cell_type": "code",
      "source": [
        "from openai import OpenAI as openai"
      ],
      "metadata": {
        "id": "2gSFihVstLPH"
      },
      "execution_count": null,
      "outputs": []
    },
    {
      "cell_type": "code",
      "source": [
        "import os\n",
        "openai.api_key = os.getenv(\"OPENAI_API_KEY\")\n",
        "openai.api_key"
      ],
      "metadata": {
        "id": "EiQPc5lgtUMo"
      },
      "execution_count": null,
      "outputs": []
    },
    {
      "cell_type": "code",
      "source": [
        "client = openai()\n"
      ],
      "metadata": {
        "id": "ieGjr5HqtfWv"
      },
      "execution_count": null,
      "outputs": []
    },
    {
      "cell_type": "markdown",
      "source": [
        "###ChatGPT routine"
      ],
      "metadata": {
        "id": "G84WlYpIiyzM"
      }
    },
    {
      "cell_type": "code",
      "source": [
        "def chat_completion(prompt, model=\"gpt-4\", temperature=0):\n",
        "    res = client.chat.completions.create(\n",
        "        model=model,\n",
        "        messages=[{\"role\": \"user\", \"content\": prompt}],\n",
        "        temperature=temperature,\n",
        "    )\n",
        "    result = res.choices[0].message.content\n",
        "    print(result)\n",
        "    return result\n",
        "\n",
        "\n",
        "\n"
      ],
      "metadata": {
        "id": "ayNbA97PvXIM"
      },
      "execution_count": null,
      "outputs": []
    },
    {
      "cell_type": "markdown",
      "source": [
        "###Prompt for structured JSON chat response"
      ],
      "metadata": {
        "id": "r3eKRNCvRcBy"
      }
    },
    {
      "cell_type": "code",
      "source": [
        "prompt = \"\"\"\n",
        "Give a JSON output with 5 names of animals,the number of legs and where they come from. The output must be accepted\n",
        "by json.loads\n",
        "\"\"\"\n",
        "\n",
        "\n"
      ],
      "metadata": {
        "id": "Y-Yk-S4ayy6j"
      },
      "execution_count": null,
      "outputs": []
    },
    {
      "cell_type": "markdown",
      "source": [
        "###Generate chat completion"
      ],
      "metadata": {
        "id": "Wi2vlB06AJgA"
      }
    },
    {
      "cell_type": "code",
      "source": [
        "result = chat_completion(prompt, model='gpt-4')"
      ],
      "metadata": {
        "id": "0Eh1veJuy5qn"
      },
      "execution_count": null,
      "outputs": []
    },
    {
      "cell_type": "markdown",
      "source": [
        "###Load response into JSON"
      ],
      "metadata": {
        "id": "lgpDI2V4AnK9"
      }
    },
    {
      "cell_type": "code",
      "source": [
        "import json\n",
        "\n",
        "loadedJSON=json.loads(result)"
      ],
      "metadata": {
        "id": "dewgMb985Kti"
      },
      "execution_count": null,
      "outputs": []
    },
    {
      "cell_type": "code",
      "source": [
        "animals=loadedJSON[\"animals\"]"
      ],
      "metadata": {
        "id": "F8i_o7jw8SUQ"
      },
      "execution_count": null,
      "outputs": []
    },
    {
      "cell_type": "markdown",
      "source": [
        "###Displaying data for first animal"
      ],
      "metadata": {
        "id": "aZb2Y9wjBga4"
      }
    },
    {
      "cell_type": "code",
      "source": [
        "animals[0]"
      ],
      "metadata": {
        "id": "5OTNNNMZHPsR"
      },
      "execution_count": null,
      "outputs": []
    },
    {
      "cell_type": "markdown",
      "source": [
        "###Displaying data in a formattet way"
      ],
      "metadata": {
        "id": "VukyM8FHB6vz"
      }
    },
    {
      "cell_type": "code",
      "source": [
        "for a in animals:\n",
        "  print(\"Details on \" + a[\"name\"]+\":\")\n",
        "  #print(\"    Continent: \" + a[\"continent\"])\n",
        "  print(\"    Legs:      \" + str(a[\"legs\"]))"
      ],
      "metadata": {
        "id": "pO9M0gX_IJc4"
      },
      "execution_count": null,
      "outputs": []
    },
    {
      "cell_type": "markdown",
      "source": [
        "#Exercises"
      ],
      "metadata": {
        "id": "5OxJTp9I9Cqc"
      }
    },
    {
      "cell_type": "markdown",
      "source": [
        "\n",
        "\n",
        "1.   Try to add more animal attributes (e.g. continent, nutrition, ...) to the prompt.\n",
        "2. Try vary on the number for animals.\n",
        "3. Does it always work?\n",
        "4. Briefly, describe you how would incorporate a feature as the one you developed above into an app. Not technically, but conceptually taking into account that the chat response not always may have an apprapiate structure for formatting.\n",
        "\n"
      ],
      "metadata": {
        "id": "lAont_HU9GiN"
      }
    },
    {
      "cell_type": "markdown",
      "source": [
        "3. Det ser ud til at chatbotten kun kan levere 10 dyr, alt over dette bliver for langt for den og det ender ud en i Error\n",
        "4. Man kunne inkorporere bottens svar til at validere. Hvis man ville lave en quiz app hvor en af spillerne læste spørgsmålet høj og en anden svaret verbalt på givet spørgsmål kan botten validere svaret.  "
      ],
      "metadata": {
        "id": "X9Pbyy9FWzej"
      }
    }
  ]
}