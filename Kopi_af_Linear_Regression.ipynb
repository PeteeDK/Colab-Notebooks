{
  "nbformat": 4,
  "nbformat_minor": 0,
  "metadata": {
    "colab": {
      "provenance": [],
      "include_colab_link": true
    },
    "kernelspec": {
      "name": "python3",
      "display_name": "Python 3"
    },
    "language_info": {
      "name": "python"
    }
  },
  "cells": [
    {
      "cell_type": "markdown",
      "metadata": {
        "id": "view-in-github",
        "colab_type": "text"
      },
      "source": [
        "<a href=\"https://colab.research.google.com/github/PeteeDK/Colab-Notebooks/blob/main/Kopi_af_Linear_Regression.ipynb\" target=\"_parent\"><img src=\"https://colab.research.google.com/assets/colab-badge.svg\" alt=\"Open In Colab\"/></a>"
      ]
    },
    {
      "cell_type": "markdown",
      "source": [
        "### Ensure that we use Python 3.7 or above:"
      ],
      "metadata": {
        "id": "cifewyhF9BAO"
      }
    },
    {
      "cell_type": "code",
      "execution_count": 7,
      "metadata": {
        "id": "8KOQTcKX8bg2"
      },
      "outputs": [],
      "source": [
        "import sys\n",
        "\n",
        "assert sys.version_info >= (3, 7)"
      ]
    },
    {
      "cell_type": "markdown",
      "source": [
        "### Ensure that we use at least Scikit-Learn 1.0.1"
      ],
      "metadata": {
        "id": "MdUYfAR79gu8"
      }
    },
    {
      "cell_type": "code",
      "source": [
        "from packaging import version\n",
        "import sklearn\n",
        "\n",
        "assert version.parse(sklearn.__version__) >= version.parse(\"1.0.1\")"
      ],
      "metadata": {
        "id": "cEyMjLcU86Dw"
      },
      "execution_count": 8,
      "outputs": []
    },
    {
      "cell_type": "markdown",
      "source": [
        "### Let us set up the fonts in mathplotlib"
      ],
      "metadata": {
        "id": "y2xAwFNX-Q0D"
      }
    },
    {
      "cell_type": "code",
      "source": [
        "import matplotlib.pyplot as plt\n",
        "\n",
        "plt.rc('font', size=12)\n",
        "plt.rc('axes', labelsize=14, titlesize=14)\n",
        "plt.rc('legend', fontsize=12)\n",
        "plt.rc('xtick', labelsize=10)\n",
        "plt.rc('ytick', labelsize=10)"
      ],
      "metadata": {
        "id": "gwi4DUJV-K1b"
      },
      "execution_count": 9,
      "outputs": []
    },
    {
      "cell_type": "markdown",
      "source": [
        "### Import important libraries 'numpy' and 'pandas'"
      ],
      "metadata": {
        "id": "tvKLkp_dHHwf"
      }
    },
    {
      "cell_type": "code",
      "source": [
        "import numpy as np\n",
        "import pandas as pd"
      ],
      "metadata": {
        "id": "gK4Onnhy-6o8"
      },
      "execution_count": 10,
      "outputs": []
    },
    {
      "cell_type": "markdown",
      "source": [
        "# Make reference to life satifaction data file"
      ],
      "metadata": {
        "id": "zZoc-LzQHYcB"
      }
    },
    {
      "cell_type": "code",
      "source": [
        "datafile = \"https://github.com/ageron/data/raw/main/lifesat/lifesat.csv\"\n",
        "\n",
        "##Try with this one later\n",
        "##datafile = \"https://raw.githubusercontent.com/jpandersen61/Machine-Learning/main/InjuredandkilledintrafikDK.csv\""
      ],
      "metadata": {
        "id": "1EB-X59l_zgg"
      },
      "execution_count": 11,
      "outputs": []
    },
    {
      "cell_type": "markdown",
      "source": [
        "### Excercise(s):"
      ],
      "metadata": {
        "id": "GLUiNLM-HqXJ"
      }
    },
    {
      "cell_type": "markdown",
      "source": [
        "Try viewing this file in your internet browser"
      ],
      "metadata": {
        "id": "Xd2829tIAimY"
      }
    },
    {
      "cell_type": "markdown",
      "source": [
        "### Load the data file"
      ],
      "metadata": {
        "id": "yWx2mhWjIMq4"
      }
    },
    {
      "cell_type": "code",
      "source": [
        "lifesat = pd.read_csv(datafile)\n"
      ],
      "metadata": {
        "id": "9g1ETm1Y_Q2c"
      },
      "execution_count": 12,
      "outputs": []
    },
    {
      "cell_type": "markdown",
      "source": [
        "### Excercise(s)"
      ],
      "metadata": {
        "id": "JBJfOo9HFmhK"
      }
    },
    {
      "cell_type": "markdown",
      "source": [
        "1. Make a new code cell below and evaluate 'lifesat'"
      ],
      "metadata": {
        "id": "IuZ12x0WF6QK"
      }
    },
    {
      "cell_type": "code",
      "source": [
        "lifesat"
      ],
      "metadata": {
        "colab": {
          "base_uri": "https://localhost:8080/",
          "height": 896
        },
        "id": "3_1Cy7JHB3Bn",
        "outputId": "419e0936-2158-4969-84be-78eebda39741"
      },
      "execution_count": 21,
      "outputs": [
        {
          "output_type": "execute_result",
          "data": {
            "text/plain": [
              "           Country  GDP per capita (USD)  Life satisfaction\n",
              "0           Russia          26456.387938                5.8\n",
              "1           Greece          27287.083401                5.4\n",
              "2           Turkey          28384.987785                5.5\n",
              "3           Latvia          29932.493910                5.9\n",
              "4          Hungary          31007.768407                5.6\n",
              "5         Portugal          32181.154537                5.4\n",
              "6           Poland          32238.157259                6.1\n",
              "7          Estonia          35638.421351                5.7\n",
              "8            Spain          36215.447591                6.3\n",
              "9         Slovenia          36547.738956                5.9\n",
              "10       Lithuania          36732.034744                5.9\n",
              "11          Israel          38341.307570                7.2\n",
              "12           Italy          38992.148381                6.0\n",
              "13  United Kingdom          41627.129269                6.8\n",
              "14          France          42025.617373                6.5\n",
              "15     New Zealand          42404.393738                7.3\n",
              "16          Canada          45856.625626                7.4\n",
              "17         Finland          47260.800458                7.6\n",
              "18         Belgium          48210.033111                6.9\n",
              "19       Australia          48697.837028                7.3\n",
              "20          Sweden          50683.323510                7.3\n",
              "21         Germany          50922.358023                7.0\n",
              "22         Austria          51935.603862                7.1\n",
              "23         Iceland          52279.728851                7.5\n",
              "24     Netherlands          54209.563836                7.4\n",
              "25         Denmark          55938.212809                7.6\n",
              "26   United States          60235.728492                6.9"
            ],
            "text/html": [
              "\n",
              "  <div id=\"df-e911852d-3151-4ead-9c21-2c4b0636d730\" class=\"colab-df-container\">\n",
              "    <div>\n",
              "<style scoped>\n",
              "    .dataframe tbody tr th:only-of-type {\n",
              "        vertical-align: middle;\n",
              "    }\n",
              "\n",
              "    .dataframe tbody tr th {\n",
              "        vertical-align: top;\n",
              "    }\n",
              "\n",
              "    .dataframe thead th {\n",
              "        text-align: right;\n",
              "    }\n",
              "</style>\n",
              "<table border=\"1\" class=\"dataframe\">\n",
              "  <thead>\n",
              "    <tr style=\"text-align: right;\">\n",
              "      <th></th>\n",
              "      <th>Country</th>\n",
              "      <th>GDP per capita (USD)</th>\n",
              "      <th>Life satisfaction</th>\n",
              "    </tr>\n",
              "  </thead>\n",
              "  <tbody>\n",
              "    <tr>\n",
              "      <th>0</th>\n",
              "      <td>Russia</td>\n",
              "      <td>26456.387938</td>\n",
              "      <td>5.8</td>\n",
              "    </tr>\n",
              "    <tr>\n",
              "      <th>1</th>\n",
              "      <td>Greece</td>\n",
              "      <td>27287.083401</td>\n",
              "      <td>5.4</td>\n",
              "    </tr>\n",
              "    <tr>\n",
              "      <th>2</th>\n",
              "      <td>Turkey</td>\n",
              "      <td>28384.987785</td>\n",
              "      <td>5.5</td>\n",
              "    </tr>\n",
              "    <tr>\n",
              "      <th>3</th>\n",
              "      <td>Latvia</td>\n",
              "      <td>29932.493910</td>\n",
              "      <td>5.9</td>\n",
              "    </tr>\n",
              "    <tr>\n",
              "      <th>4</th>\n",
              "      <td>Hungary</td>\n",
              "      <td>31007.768407</td>\n",
              "      <td>5.6</td>\n",
              "    </tr>\n",
              "    <tr>\n",
              "      <th>5</th>\n",
              "      <td>Portugal</td>\n",
              "      <td>32181.154537</td>\n",
              "      <td>5.4</td>\n",
              "    </tr>\n",
              "    <tr>\n",
              "      <th>6</th>\n",
              "      <td>Poland</td>\n",
              "      <td>32238.157259</td>\n",
              "      <td>6.1</td>\n",
              "    </tr>\n",
              "    <tr>\n",
              "      <th>7</th>\n",
              "      <td>Estonia</td>\n",
              "      <td>35638.421351</td>\n",
              "      <td>5.7</td>\n",
              "    </tr>\n",
              "    <tr>\n",
              "      <th>8</th>\n",
              "      <td>Spain</td>\n",
              "      <td>36215.447591</td>\n",
              "      <td>6.3</td>\n",
              "    </tr>\n",
              "    <tr>\n",
              "      <th>9</th>\n",
              "      <td>Slovenia</td>\n",
              "      <td>36547.738956</td>\n",
              "      <td>5.9</td>\n",
              "    </tr>\n",
              "    <tr>\n",
              "      <th>10</th>\n",
              "      <td>Lithuania</td>\n",
              "      <td>36732.034744</td>\n",
              "      <td>5.9</td>\n",
              "    </tr>\n",
              "    <tr>\n",
              "      <th>11</th>\n",
              "      <td>Israel</td>\n",
              "      <td>38341.307570</td>\n",
              "      <td>7.2</td>\n",
              "    </tr>\n",
              "    <tr>\n",
              "      <th>12</th>\n",
              "      <td>Italy</td>\n",
              "      <td>38992.148381</td>\n",
              "      <td>6.0</td>\n",
              "    </tr>\n",
              "    <tr>\n",
              "      <th>13</th>\n",
              "      <td>United Kingdom</td>\n",
              "      <td>41627.129269</td>\n",
              "      <td>6.8</td>\n",
              "    </tr>\n",
              "    <tr>\n",
              "      <th>14</th>\n",
              "      <td>France</td>\n",
              "      <td>42025.617373</td>\n",
              "      <td>6.5</td>\n",
              "    </tr>\n",
              "    <tr>\n",
              "      <th>15</th>\n",
              "      <td>New Zealand</td>\n",
              "      <td>42404.393738</td>\n",
              "      <td>7.3</td>\n",
              "    </tr>\n",
              "    <tr>\n",
              "      <th>16</th>\n",
              "      <td>Canada</td>\n",
              "      <td>45856.625626</td>\n",
              "      <td>7.4</td>\n",
              "    </tr>\n",
              "    <tr>\n",
              "      <th>17</th>\n",
              "      <td>Finland</td>\n",
              "      <td>47260.800458</td>\n",
              "      <td>7.6</td>\n",
              "    </tr>\n",
              "    <tr>\n",
              "      <th>18</th>\n",
              "      <td>Belgium</td>\n",
              "      <td>48210.033111</td>\n",
              "      <td>6.9</td>\n",
              "    </tr>\n",
              "    <tr>\n",
              "      <th>19</th>\n",
              "      <td>Australia</td>\n",
              "      <td>48697.837028</td>\n",
              "      <td>7.3</td>\n",
              "    </tr>\n",
              "    <tr>\n",
              "      <th>20</th>\n",
              "      <td>Sweden</td>\n",
              "      <td>50683.323510</td>\n",
              "      <td>7.3</td>\n",
              "    </tr>\n",
              "    <tr>\n",
              "      <th>21</th>\n",
              "      <td>Germany</td>\n",
              "      <td>50922.358023</td>\n",
              "      <td>7.0</td>\n",
              "    </tr>\n",
              "    <tr>\n",
              "      <th>22</th>\n",
              "      <td>Austria</td>\n",
              "      <td>51935.603862</td>\n",
              "      <td>7.1</td>\n",
              "    </tr>\n",
              "    <tr>\n",
              "      <th>23</th>\n",
              "      <td>Iceland</td>\n",
              "      <td>52279.728851</td>\n",
              "      <td>7.5</td>\n",
              "    </tr>\n",
              "    <tr>\n",
              "      <th>24</th>\n",
              "      <td>Netherlands</td>\n",
              "      <td>54209.563836</td>\n",
              "      <td>7.4</td>\n",
              "    </tr>\n",
              "    <tr>\n",
              "      <th>25</th>\n",
              "      <td>Denmark</td>\n",
              "      <td>55938.212809</td>\n",
              "      <td>7.6</td>\n",
              "    </tr>\n",
              "    <tr>\n",
              "      <th>26</th>\n",
              "      <td>United States</td>\n",
              "      <td>60235.728492</td>\n",
              "      <td>6.9</td>\n",
              "    </tr>\n",
              "  </tbody>\n",
              "</table>\n",
              "</div>\n",
              "    <div class=\"colab-df-buttons\">\n",
              "\n",
              "  <div class=\"colab-df-container\">\n",
              "    <button class=\"colab-df-convert\" onclick=\"convertToInteractive('df-e911852d-3151-4ead-9c21-2c4b0636d730')\"\n",
              "            title=\"Convert this dataframe to an interactive table.\"\n",
              "            style=\"display:none;\">\n",
              "\n",
              "  <svg xmlns=\"http://www.w3.org/2000/svg\" height=\"24px\" viewBox=\"0 -960 960 960\">\n",
              "    <path d=\"M120-120v-720h720v720H120Zm60-500h600v-160H180v160Zm220 220h160v-160H400v160Zm0 220h160v-160H400v160ZM180-400h160v-160H180v160Zm440 0h160v-160H620v160ZM180-180h160v-160H180v160Zm440 0h160v-160H620v160Z\"/>\n",
              "  </svg>\n",
              "    </button>\n",
              "\n",
              "  <style>\n",
              "    .colab-df-container {\n",
              "      display:flex;\n",
              "      gap: 12px;\n",
              "    }\n",
              "\n",
              "    .colab-df-convert {\n",
              "      background-color: #E8F0FE;\n",
              "      border: none;\n",
              "      border-radius: 50%;\n",
              "      cursor: pointer;\n",
              "      display: none;\n",
              "      fill: #1967D2;\n",
              "      height: 32px;\n",
              "      padding: 0 0 0 0;\n",
              "      width: 32px;\n",
              "    }\n",
              "\n",
              "    .colab-df-convert:hover {\n",
              "      background-color: #E2EBFA;\n",
              "      box-shadow: 0px 1px 2px rgba(60, 64, 67, 0.3), 0px 1px 3px 1px rgba(60, 64, 67, 0.15);\n",
              "      fill: #174EA6;\n",
              "    }\n",
              "\n",
              "    .colab-df-buttons div {\n",
              "      margin-bottom: 4px;\n",
              "    }\n",
              "\n",
              "    [theme=dark] .colab-df-convert {\n",
              "      background-color: #3B4455;\n",
              "      fill: #D2E3FC;\n",
              "    }\n",
              "\n",
              "    [theme=dark] .colab-df-convert:hover {\n",
              "      background-color: #434B5C;\n",
              "      box-shadow: 0px 1px 3px 1px rgba(0, 0, 0, 0.15);\n",
              "      filter: drop-shadow(0px 1px 2px rgba(0, 0, 0, 0.3));\n",
              "      fill: #FFFFFF;\n",
              "    }\n",
              "  </style>\n",
              "\n",
              "    <script>\n",
              "      const buttonEl =\n",
              "        document.querySelector('#df-e911852d-3151-4ead-9c21-2c4b0636d730 button.colab-df-convert');\n",
              "      buttonEl.style.display =\n",
              "        google.colab.kernel.accessAllowed ? 'block' : 'none';\n",
              "\n",
              "      async function convertToInteractive(key) {\n",
              "        const element = document.querySelector('#df-e911852d-3151-4ead-9c21-2c4b0636d730');\n",
              "        const dataTable =\n",
              "          await google.colab.kernel.invokeFunction('convertToInteractive',\n",
              "                                                    [key], {});\n",
              "        if (!dataTable) return;\n",
              "\n",
              "        const docLinkHtml = 'Like what you see? Visit the ' +\n",
              "          '<a target=\"_blank\" href=https://colab.research.google.com/notebooks/data_table.ipynb>data table notebook</a>'\n",
              "          + ' to learn more about interactive tables.';\n",
              "        element.innerHTML = '';\n",
              "        dataTable['output_type'] = 'display_data';\n",
              "        await google.colab.output.renderOutput(dataTable, element);\n",
              "        const docLink = document.createElement('div');\n",
              "        docLink.innerHTML = docLinkHtml;\n",
              "        element.appendChild(docLink);\n",
              "      }\n",
              "    </script>\n",
              "  </div>\n",
              "\n",
              "\n",
              "<div id=\"df-cfc7e6b1-6e6e-4f72-8564-b27d169947b5\">\n",
              "  <button class=\"colab-df-quickchart\" onclick=\"quickchart('df-cfc7e6b1-6e6e-4f72-8564-b27d169947b5')\"\n",
              "            title=\"Suggest charts\"\n",
              "            style=\"display:none;\">\n",
              "\n",
              "<svg xmlns=\"http://www.w3.org/2000/svg\" height=\"24px\"viewBox=\"0 0 24 24\"\n",
              "     width=\"24px\">\n",
              "    <g>\n",
              "        <path d=\"M19 3H5c-1.1 0-2 .9-2 2v14c0 1.1.9 2 2 2h14c1.1 0 2-.9 2-2V5c0-1.1-.9-2-2-2zM9 17H7v-7h2v7zm4 0h-2V7h2v10zm4 0h-2v-4h2v4z\"/>\n",
              "    </g>\n",
              "</svg>\n",
              "  </button>\n",
              "\n",
              "<style>\n",
              "  .colab-df-quickchart {\n",
              "      --bg-color: #E8F0FE;\n",
              "      --fill-color: #1967D2;\n",
              "      --hover-bg-color: #E2EBFA;\n",
              "      --hover-fill-color: #174EA6;\n",
              "      --disabled-fill-color: #AAA;\n",
              "      --disabled-bg-color: #DDD;\n",
              "  }\n",
              "\n",
              "  [theme=dark] .colab-df-quickchart {\n",
              "      --bg-color: #3B4455;\n",
              "      --fill-color: #D2E3FC;\n",
              "      --hover-bg-color: #434B5C;\n",
              "      --hover-fill-color: #FFFFFF;\n",
              "      --disabled-bg-color: #3B4455;\n",
              "      --disabled-fill-color: #666;\n",
              "  }\n",
              "\n",
              "  .colab-df-quickchart {\n",
              "    background-color: var(--bg-color);\n",
              "    border: none;\n",
              "    border-radius: 50%;\n",
              "    cursor: pointer;\n",
              "    display: none;\n",
              "    fill: var(--fill-color);\n",
              "    height: 32px;\n",
              "    padding: 0;\n",
              "    width: 32px;\n",
              "  }\n",
              "\n",
              "  .colab-df-quickchart:hover {\n",
              "    background-color: var(--hover-bg-color);\n",
              "    box-shadow: 0 1px 2px rgba(60, 64, 67, 0.3), 0 1px 3px 1px rgba(60, 64, 67, 0.15);\n",
              "    fill: var(--button-hover-fill-color);\n",
              "  }\n",
              "\n",
              "  .colab-df-quickchart-complete:disabled,\n",
              "  .colab-df-quickchart-complete:disabled:hover {\n",
              "    background-color: var(--disabled-bg-color);\n",
              "    fill: var(--disabled-fill-color);\n",
              "    box-shadow: none;\n",
              "  }\n",
              "\n",
              "  .colab-df-spinner {\n",
              "    border: 2px solid var(--fill-color);\n",
              "    border-color: transparent;\n",
              "    border-bottom-color: var(--fill-color);\n",
              "    animation:\n",
              "      spin 1s steps(1) infinite;\n",
              "  }\n",
              "\n",
              "  @keyframes spin {\n",
              "    0% {\n",
              "      border-color: transparent;\n",
              "      border-bottom-color: var(--fill-color);\n",
              "      border-left-color: var(--fill-color);\n",
              "    }\n",
              "    20% {\n",
              "      border-color: transparent;\n",
              "      border-left-color: var(--fill-color);\n",
              "      border-top-color: var(--fill-color);\n",
              "    }\n",
              "    30% {\n",
              "      border-color: transparent;\n",
              "      border-left-color: var(--fill-color);\n",
              "      border-top-color: var(--fill-color);\n",
              "      border-right-color: var(--fill-color);\n",
              "    }\n",
              "    40% {\n",
              "      border-color: transparent;\n",
              "      border-right-color: var(--fill-color);\n",
              "      border-top-color: var(--fill-color);\n",
              "    }\n",
              "    60% {\n",
              "      border-color: transparent;\n",
              "      border-right-color: var(--fill-color);\n",
              "    }\n",
              "    80% {\n",
              "      border-color: transparent;\n",
              "      border-right-color: var(--fill-color);\n",
              "      border-bottom-color: var(--fill-color);\n",
              "    }\n",
              "    90% {\n",
              "      border-color: transparent;\n",
              "      border-bottom-color: var(--fill-color);\n",
              "    }\n",
              "  }\n",
              "</style>\n",
              "\n",
              "  <script>\n",
              "    async function quickchart(key) {\n",
              "      const quickchartButtonEl =\n",
              "        document.querySelector('#' + key + ' button');\n",
              "      quickchartButtonEl.disabled = true;  // To prevent multiple clicks.\n",
              "      quickchartButtonEl.classList.add('colab-df-spinner');\n",
              "      try {\n",
              "        const charts = await google.colab.kernel.invokeFunction(\n",
              "            'suggestCharts', [key], {});\n",
              "      } catch (error) {\n",
              "        console.error('Error during call to suggestCharts:', error);\n",
              "      }\n",
              "      quickchartButtonEl.classList.remove('colab-df-spinner');\n",
              "      quickchartButtonEl.classList.add('colab-df-quickchart-complete');\n",
              "    }\n",
              "    (() => {\n",
              "      let quickchartButtonEl =\n",
              "        document.querySelector('#df-cfc7e6b1-6e6e-4f72-8564-b27d169947b5 button');\n",
              "      quickchartButtonEl.style.display =\n",
              "        google.colab.kernel.accessAllowed ? 'block' : 'none';\n",
              "    })();\n",
              "  </script>\n",
              "</div>\n",
              "\n",
              "  <div id=\"id_03c90fca-6961-4ef9-9912-71edc16f16a2\">\n",
              "    <style>\n",
              "      .colab-df-generate {\n",
              "        background-color: #E8F0FE;\n",
              "        border: none;\n",
              "        border-radius: 50%;\n",
              "        cursor: pointer;\n",
              "        display: none;\n",
              "        fill: #1967D2;\n",
              "        height: 32px;\n",
              "        padding: 0 0 0 0;\n",
              "        width: 32px;\n",
              "      }\n",
              "\n",
              "      .colab-df-generate:hover {\n",
              "        background-color: #E2EBFA;\n",
              "        box-shadow: 0px 1px 2px rgba(60, 64, 67, 0.3), 0px 1px 3px 1px rgba(60, 64, 67, 0.15);\n",
              "        fill: #174EA6;\n",
              "      }\n",
              "\n",
              "      [theme=dark] .colab-df-generate {\n",
              "        background-color: #3B4455;\n",
              "        fill: #D2E3FC;\n",
              "      }\n",
              "\n",
              "      [theme=dark] .colab-df-generate:hover {\n",
              "        background-color: #434B5C;\n",
              "        box-shadow: 0px 1px 3px 1px rgba(0, 0, 0, 0.15);\n",
              "        filter: drop-shadow(0px 1px 2px rgba(0, 0, 0, 0.3));\n",
              "        fill: #FFFFFF;\n",
              "      }\n",
              "    </style>\n",
              "    <button class=\"colab-df-generate\" onclick=\"generateWithVariable('lifesat')\"\n",
              "            title=\"Generate code using this dataframe.\"\n",
              "            style=\"display:none;\">\n",
              "\n",
              "  <svg xmlns=\"http://www.w3.org/2000/svg\" height=\"24px\"viewBox=\"0 0 24 24\"\n",
              "       width=\"24px\">\n",
              "    <path d=\"M7,19H8.4L18.45,9,17,7.55,7,17.6ZM5,21V16.75L18.45,3.32a2,2,0,0,1,2.83,0l1.4,1.43a1.91,1.91,0,0,1,.58,1.4,1.91,1.91,0,0,1-.58,1.4L9.25,21ZM18.45,9,17,7.55Zm-12,3A5.31,5.31,0,0,0,4.9,8.1,5.31,5.31,0,0,0,1,6.5,5.31,5.31,0,0,0,4.9,4.9,5.31,5.31,0,0,0,6.5,1,5.31,5.31,0,0,0,8.1,4.9,5.31,5.31,0,0,0,12,6.5,5.46,5.46,0,0,0,6.5,12Z\"/>\n",
              "  </svg>\n",
              "    </button>\n",
              "    <script>\n",
              "      (() => {\n",
              "      const buttonEl =\n",
              "        document.querySelector('#id_03c90fca-6961-4ef9-9912-71edc16f16a2 button.colab-df-generate');\n",
              "      buttonEl.style.display =\n",
              "        google.colab.kernel.accessAllowed ? 'block' : 'none';\n",
              "\n",
              "      buttonEl.onclick = () => {\n",
              "        google.colab.notebook.generateWithVariable('lifesat');\n",
              "      }\n",
              "      })();\n",
              "    </script>\n",
              "  </div>\n",
              "\n",
              "    </div>\n",
              "  </div>\n"
            ],
            "application/vnd.google.colaboratory.intrinsic+json": {
              "type": "dataframe",
              "variable_name": "lifesat",
              "summary": "{\n  \"name\": \"lifesat\",\n  \"rows\": 27,\n  \"fields\": [\n    {\n      \"column\": \"Country\",\n      \"properties\": {\n        \"dtype\": \"string\",\n        \"num_unique_values\": 27,\n        \"samples\": [\n          \"Spain\",\n          \"United Kingdom\",\n          \"Slovenia\"\n        ],\n        \"semantic_type\": \"\",\n        \"description\": \"\"\n      }\n    },\n    {\n      \"column\": \"GDP per capita (USD)\",\n      \"properties\": {\n        \"dtype\": \"number\",\n        \"std\": 9631.452318546564,\n        \"min\": 26456.3879381321,\n        \"max\": 60235.7284916969,\n        \"num_unique_values\": 27,\n        \"samples\": [\n          36215.4475907307,\n          41627.129269425,\n          36547.7389559849\n        ],\n        \"semantic_type\": \"\",\n        \"description\": \"\"\n      }\n    },\n    {\n      \"column\": \"Life satisfaction\",\n      \"properties\": {\n        \"dtype\": \"number\",\n        \"std\": 0.7656068482934607,\n        \"min\": 5.4,\n        \"max\": 7.6,\n        \"num_unique_values\": 19,\n        \"samples\": [\n          5.8,\n          6.1,\n          6.5\n        ],\n        \"semantic_type\": \"\",\n        \"description\": \"\"\n      }\n    }\n  ]\n}"
            }
          },
          "metadata": {},
          "execution_count": 21
        }
      ]
    },
    {
      "cell_type": "markdown",
      "source": [
        "2. Get some information about the kind of data structure, that life satisfaction data is store in. Usefuk to know when using the data afterwards in Python: Make a new code cell below and evaluate 'type(lifesat)'"
      ],
      "metadata": {
        "id": "aDwhNpA3Cyp0"
      }
    },
    {
      "cell_type": "code",
      "source": [
        "type(lifesat)"
      ],
      "metadata": {
        "colab": {
          "base_uri": "https://localhost:8080/",
          "height": 603
        },
        "id": "AF3CIn11CQL_",
        "outputId": "bcadad98-5468-46c2-c13b-a5ad2ddba80f"
      },
      "execution_count": 22,
      "outputs": [
        {
          "output_type": "execute_result",
          "data": {
            "text/plain": [
              "pandas.core.frame.DataFrame"
            ],
            "text/html": [
              "<div style=\"max-width:800px; border: 1px solid var(--colab-border-color);\"><style>\n",
              "      pre.function-repr-contents {\n",
              "        overflow-x: auto;\n",
              "        padding: 8px 12px;\n",
              "        max-height: 500px;\n",
              "      }\n",
              "\n",
              "      pre.function-repr-contents.function-repr-contents-collapsed {\n",
              "        cursor: pointer;\n",
              "        max-height: 100px;\n",
              "      }\n",
              "    </style>\n",
              "    <pre style=\"white-space: initial; background:\n",
              "         var(--colab-secondary-surface-color); padding: 8px 12px;\n",
              "         border-bottom: 1px solid var(--colab-border-color);\"><b>pandas.core.frame.DataFrame</b><br/>def __init__(data=None, index: Axes | None=None, columns: Axes | None=None, dtype: Dtype | None=None, copy: bool | None=None) -&gt; None</pre><pre class=\"function-repr-contents function-repr-contents-collapsed\" style=\"\"><a class=\"filepath\" style=\"display:none\" href=\"#\">/usr/local/lib/python3.10/dist-packages/pandas/core/frame.py</a>Two-dimensional, size-mutable, potentially heterogeneous tabular data.\n",
              "\n",
              "Data structure also contains labeled axes (rows and columns).\n",
              "Arithmetic operations align on both row and column labels. Can be\n",
              "thought of as a dict-like container for Series objects. The primary\n",
              "pandas data structure.\n",
              "\n",
              "Parameters\n",
              "----------\n",
              "data : ndarray (structured or homogeneous), Iterable, dict, or DataFrame\n",
              "    Dict can contain Series, arrays, constants, dataclass or list-like objects. If\n",
              "    data is a dict, column order follows insertion-order. If a dict contains Series\n",
              "    which have an index defined, it is aligned by its index. This alignment also\n",
              "    occurs if data is a Series or a DataFrame itself. Alignment is done on\n",
              "    Series/DataFrame inputs.\n",
              "\n",
              "    If data is a list of dicts, column order follows insertion-order.\n",
              "\n",
              "index : Index or array-like\n",
              "    Index to use for resulting frame. Will default to RangeIndex if\n",
              "    no indexing information part of input data and no index provided.\n",
              "columns : Index or array-like\n",
              "    Column labels to use for resulting frame when data does not have them,\n",
              "    defaulting to RangeIndex(0, 1, 2, ..., n). If data contains column labels,\n",
              "    will perform column selection instead.\n",
              "dtype : dtype, default None\n",
              "    Data type to force. Only a single dtype is allowed. If None, infer.\n",
              "copy : bool or None, default None\n",
              "    Copy data from inputs.\n",
              "    For dict data, the default of None behaves like ``copy=True``.  For DataFrame\n",
              "    or 2d ndarray input, the default of None behaves like ``copy=False``.\n",
              "    If data is a dict containing one or more Series (possibly of different dtypes),\n",
              "    ``copy=False`` will ensure that these inputs are not copied.\n",
              "\n",
              "    .. versionchanged:: 1.3.0\n",
              "\n",
              "See Also\n",
              "--------\n",
              "DataFrame.from_records : Constructor from tuples, also record arrays.\n",
              "DataFrame.from_dict : From dicts of Series, arrays, or dicts.\n",
              "read_csv : Read a comma-separated values (csv) file into DataFrame.\n",
              "read_table : Read general delimited file into DataFrame.\n",
              "read_clipboard : Read text from clipboard into DataFrame.\n",
              "\n",
              "Notes\n",
              "-----\n",
              "Please reference the :ref:`User Guide &lt;basics.dataframe&gt;` for more information.\n",
              "\n",
              "Examples\n",
              "--------\n",
              "Constructing DataFrame from a dictionary.\n",
              "\n",
              "&gt;&gt;&gt; d = {&#x27;col1&#x27;: [1, 2], &#x27;col2&#x27;: [3, 4]}\n",
              "&gt;&gt;&gt; df = pd.DataFrame(data=d)\n",
              "&gt;&gt;&gt; df\n",
              "   col1  col2\n",
              "0     1     3\n",
              "1     2     4\n",
              "\n",
              "Notice that the inferred dtype is int64.\n",
              "\n",
              "&gt;&gt;&gt; df.dtypes\n",
              "col1    int64\n",
              "col2    int64\n",
              "dtype: object\n",
              "\n",
              "To enforce a single dtype:\n",
              "\n",
              "&gt;&gt;&gt; df = pd.DataFrame(data=d, dtype=np.int8)\n",
              "&gt;&gt;&gt; df.dtypes\n",
              "col1    int8\n",
              "col2    int8\n",
              "dtype: object\n",
              "\n",
              "Constructing DataFrame from a dictionary including Series:\n",
              "\n",
              "&gt;&gt;&gt; d = {&#x27;col1&#x27;: [0, 1, 2, 3], &#x27;col2&#x27;: pd.Series([2, 3], index=[2, 3])}\n",
              "&gt;&gt;&gt; pd.DataFrame(data=d, index=[0, 1, 2, 3])\n",
              "   col1  col2\n",
              "0     0   NaN\n",
              "1     1   NaN\n",
              "2     2   2.0\n",
              "3     3   3.0\n",
              "\n",
              "Constructing DataFrame from numpy ndarray:\n",
              "\n",
              "&gt;&gt;&gt; df2 = pd.DataFrame(np.array([[1, 2, 3], [4, 5, 6], [7, 8, 9]]),\n",
              "...                    columns=[&#x27;a&#x27;, &#x27;b&#x27;, &#x27;c&#x27;])\n",
              "&gt;&gt;&gt; df2\n",
              "   a  b  c\n",
              "0  1  2  3\n",
              "1  4  5  6\n",
              "2  7  8  9\n",
              "\n",
              "Constructing DataFrame from a numpy ndarray that has labeled columns:\n",
              "\n",
              "&gt;&gt;&gt; data = np.array([(1, 2, 3), (4, 5, 6), (7, 8, 9)],\n",
              "...                 dtype=[(&quot;a&quot;, &quot;i4&quot;), (&quot;b&quot;, &quot;i4&quot;), (&quot;c&quot;, &quot;i4&quot;)])\n",
              "&gt;&gt;&gt; df3 = pd.DataFrame(data, columns=[&#x27;c&#x27;, &#x27;a&#x27;])\n",
              "...\n",
              "&gt;&gt;&gt; df3\n",
              "   c  a\n",
              "0  3  1\n",
              "1  6  4\n",
              "2  9  7\n",
              "\n",
              "Constructing DataFrame from dataclass:\n",
              "\n",
              "&gt;&gt;&gt; from dataclasses import make_dataclass\n",
              "&gt;&gt;&gt; Point = make_dataclass(&quot;Point&quot;, [(&quot;x&quot;, int), (&quot;y&quot;, int)])\n",
              "&gt;&gt;&gt; pd.DataFrame([Point(0, 0), Point(0, 3), Point(2, 3)])\n",
              "   x  y\n",
              "0  0  0\n",
              "1  0  3\n",
              "2  2  3\n",
              "\n",
              "Constructing DataFrame from Series/DataFrame:\n",
              "\n",
              "&gt;&gt;&gt; ser = pd.Series([1, 2, 3], index=[&quot;a&quot;, &quot;b&quot;, &quot;c&quot;])\n",
              "&gt;&gt;&gt; df = pd.DataFrame(data=ser, index=[&quot;a&quot;, &quot;c&quot;])\n",
              "&gt;&gt;&gt; df\n",
              "   0\n",
              "a  1\n",
              "c  3\n",
              "\n",
              "&gt;&gt;&gt; df1 = pd.DataFrame([1, 2, 3], index=[&quot;a&quot;, &quot;b&quot;, &quot;c&quot;], columns=[&quot;x&quot;])\n",
              "&gt;&gt;&gt; df2 = pd.DataFrame(data=df1, index=[&quot;a&quot;, &quot;c&quot;])\n",
              "&gt;&gt;&gt; df2\n",
              "   x\n",
              "a  1\n",
              "c  3</pre>\n",
              "      <script>\n",
              "      if (google.colab.kernel.accessAllowed && google.colab.files && google.colab.files.view) {\n",
              "        for (const element of document.querySelectorAll('.filepath')) {\n",
              "          element.style.display = 'block'\n",
              "          element.onclick = (event) => {\n",
              "            event.preventDefault();\n",
              "            event.stopPropagation();\n",
              "            google.colab.files.view(element.textContent, 509);\n",
              "          };\n",
              "        }\n",
              "      }\n",
              "      for (const element of document.querySelectorAll('.function-repr-contents')) {\n",
              "        element.onclick = (event) => {\n",
              "          event.preventDefault();\n",
              "          event.stopPropagation();\n",
              "          element.classList.toggle('function-repr-contents-collapsed');\n",
              "        };\n",
              "      }\n",
              "      </script>\n",
              "      </div>"
            ]
          },
          "metadata": {},
          "execution_count": 22
        }
      ]
    },
    {
      "cell_type": "markdown",
      "source": [
        "### Extract the learning set 'X' and its labels 'y'"
      ],
      "metadata": {
        "id": "cj4YKu6oFI3Q"
      }
    },
    {
      "cell_type": "code",
      "source": [
        "X = lifesat[[\"GDP per capita (USD)\"]].values\n",
        "y = lifesat[[\"Life satisfaction\"]].values\n",
        "\n"
      ],
      "metadata": {
        "id": "NtovVwne_pM7"
      },
      "execution_count": 13,
      "outputs": []
    },
    {
      "cell_type": "markdown",
      "source": [
        "### Exercises:"
      ],
      "metadata": {
        "id": "HSYpesjdEwCn"
      }
    },
    {
      "cell_type": "markdown",
      "source": [
        "Make a new code cell below and evaluate 'X'\n",
        "\n",
        "\n",
        "\n",
        "\n",
        "\n"
      ],
      "metadata": {
        "id": "pcR9Ia3VDmWw"
      }
    },
    {
      "cell_type": "code",
      "source": [
        "X"
      ],
      "metadata": {
        "colab": {
          "base_uri": "https://localhost:8080/"
        },
        "id": "YuFma3AFDIRJ",
        "outputId": "994bd514-c35e-4e47-bdc3-3fb0f1d5e869"
      },
      "execution_count": 24,
      "outputs": [
        {
          "output_type": "execute_result",
          "data": {
            "text/plain": [
              "array([23500.        , 23539.03903904, 23578.07807808, 23617.11711712,\n",
              "       23656.15615616, 23695.1951952 , 23734.23423423, 23773.27327327,\n",
              "       23812.31231231, 23851.35135135, 23890.39039039, 23929.42942943,\n",
              "       23968.46846847, 24007.50750751, 24046.54654655, 24085.58558559,\n",
              "       24124.62462462, 24163.66366366, 24202.7027027 , 24241.74174174,\n",
              "       24280.78078078, 24319.81981982, 24358.85885886, 24397.8978979 ,\n",
              "       24436.93693694, 24475.97597598, 24515.01501502, 24554.05405405,\n",
              "       24593.09309309, 24632.13213213, 24671.17117117, 24710.21021021,\n",
              "       24749.24924925, 24788.28828829, 24827.32732733, 24866.36636637,\n",
              "       24905.40540541, 24944.44444444, 24983.48348348, 25022.52252252,\n",
              "       25061.56156156, 25100.6006006 , 25139.63963964, 25178.67867868,\n",
              "       25217.71771772, 25256.75675676, 25295.7957958 , 25334.83483483,\n",
              "       25373.87387387, 25412.91291291, 25451.95195195, 25490.99099099,\n",
              "       25530.03003003, 25569.06906907, 25608.10810811, 25647.14714715,\n",
              "       25686.18618619, 25725.22522523, 25764.26426426, 25803.3033033 ,\n",
              "       25842.34234234, 25881.38138138, 25920.42042042, 25959.45945946,\n",
              "       25998.4984985 , 26037.53753754, 26076.57657658, 26115.61561562,\n",
              "       26154.65465465, 26193.69369369, 26232.73273273, 26271.77177177,\n",
              "       26310.81081081, 26349.84984985, 26388.88888889, 26427.92792793,\n",
              "       26466.96696697, 26506.00600601, 26545.04504505, 26584.08408408,\n",
              "       26623.12312312, 26662.16216216, 26701.2012012 , 26740.24024024,\n",
              "       26779.27927928, 26818.31831832, 26857.35735736, 26896.3963964 ,\n",
              "       26935.43543544, 26974.47447447, 27013.51351351, 27052.55255255,\n",
              "       27091.59159159, 27130.63063063, 27169.66966967, 27208.70870871,\n",
              "       27247.74774775, 27286.78678679, 27325.82582583, 27364.86486486,\n",
              "       27403.9039039 , 27442.94294294, 27481.98198198, 27521.02102102,\n",
              "       27560.06006006, 27599.0990991 , 27638.13813814, 27677.17717718,\n",
              "       27716.21621622, 27755.25525526, 27794.29429429, 27833.33333333,\n",
              "       27872.37237237, 27911.41141141, 27950.45045045, 27989.48948949,\n",
              "       28028.52852853, 28067.56756757, 28106.60660661, 28145.64564565,\n",
              "       28184.68468468, 28223.72372372, 28262.76276276, 28301.8018018 ,\n",
              "       28340.84084084, 28379.87987988, 28418.91891892, 28457.95795796,\n",
              "       28496.996997  , 28536.03603604, 28575.07507508, 28614.11411411,\n",
              "       28653.15315315, 28692.19219219, 28731.23123123, 28770.27027027,\n",
              "       28809.30930931, 28848.34834835, 28887.38738739, 28926.42642643,\n",
              "       28965.46546547, 29004.5045045 , 29043.54354354, 29082.58258258,\n",
              "       29121.62162162, 29160.66066066, 29199.6996997 , 29238.73873874,\n",
              "       29277.77777778, 29316.81681682, 29355.85585586, 29394.89489489,\n",
              "       29433.93393393, 29472.97297297, 29512.01201201, 29551.05105105,\n",
              "       29590.09009009, 29629.12912913, 29668.16816817, 29707.20720721,\n",
              "       29746.24624625, 29785.28528529, 29824.32432432, 29863.36336336,\n",
              "       29902.4024024 , 29941.44144144, 29980.48048048, 30019.51951952,\n",
              "       30058.55855856, 30097.5975976 , 30136.63663664, 30175.67567568,\n",
              "       30214.71471471, 30253.75375375, 30292.79279279, 30331.83183183,\n",
              "       30370.87087087, 30409.90990991, 30448.94894895, 30487.98798799,\n",
              "       30527.02702703, 30566.06606607, 30605.10510511, 30644.14414414,\n",
              "       30683.18318318, 30722.22222222, 30761.26126126, 30800.3003003 ,\n",
              "       30839.33933934, 30878.37837838, 30917.41741742, 30956.45645646,\n",
              "       30995.4954955 , 31034.53453453, 31073.57357357, 31112.61261261,\n",
              "       31151.65165165, 31190.69069069, 31229.72972973, 31268.76876877,\n",
              "       31307.80780781, 31346.84684685, 31385.88588589, 31424.92492492,\n",
              "       31463.96396396, 31503.003003  , 31542.04204204, 31581.08108108,\n",
              "       31620.12012012, 31659.15915916, 31698.1981982 , 31737.23723724,\n",
              "       31776.27627628, 31815.31531532, 31854.35435435, 31893.39339339,\n",
              "       31932.43243243, 31971.47147147, 32010.51051051, 32049.54954955,\n",
              "       32088.58858859, 32127.62762763, 32166.66666667, 32205.70570571,\n",
              "       32244.74474474, 32283.78378378, 32322.82282282, 32361.86186186,\n",
              "       32400.9009009 , 32439.93993994, 32478.97897898, 32518.01801802,\n",
              "       32557.05705706, 32596.0960961 , 32635.13513514, 32674.17417417,\n",
              "       32713.21321321, 32752.25225225, 32791.29129129, 32830.33033033,\n",
              "       32869.36936937, 32908.40840841, 32947.44744745, 32986.48648649,\n",
              "       33025.52552553, 33064.56456456, 33103.6036036 , 33142.64264264,\n",
              "       33181.68168168, 33220.72072072, 33259.75975976, 33298.7987988 ,\n",
              "       33337.83783784, 33376.87687688, 33415.91591592, 33454.95495495,\n",
              "       33493.99399399, 33533.03303303, 33572.07207207, 33611.11111111,\n",
              "       33650.15015015, 33689.18918919, 33728.22822823, 33767.26726727,\n",
              "       33806.30630631, 33845.34534535, 33884.38438438, 33923.42342342,\n",
              "       33962.46246246, 34001.5015015 , 34040.54054054, 34079.57957958,\n",
              "       34118.61861862, 34157.65765766, 34196.6966967 , 34235.73573574,\n",
              "       34274.77477477, 34313.81381381, 34352.85285285, 34391.89189189,\n",
              "       34430.93093093, 34469.96996997, 34509.00900901, 34548.04804805,\n",
              "       34587.08708709, 34626.12612613, 34665.16516517, 34704.2042042 ,\n",
              "       34743.24324324, 34782.28228228, 34821.32132132, 34860.36036036,\n",
              "       34899.3993994 , 34938.43843844, 34977.47747748, 35016.51651652,\n",
              "       35055.55555556, 35094.59459459, 35133.63363363, 35172.67267267,\n",
              "       35211.71171171, 35250.75075075, 35289.78978979, 35328.82882883,\n",
              "       35367.86786787, 35406.90690691, 35445.94594595, 35484.98498498,\n",
              "       35524.02402402, 35563.06306306, 35602.1021021 , 35641.14114114,\n",
              "       35680.18018018, 35719.21921922, 35758.25825826, 35797.2972973 ,\n",
              "       35836.33633634, 35875.37537538, 35914.41441441, 35953.45345345,\n",
              "       35992.49249249, 36031.53153153, 36070.57057057, 36109.60960961,\n",
              "       36148.64864865, 36187.68768769, 36226.72672673, 36265.76576577,\n",
              "       36304.8048048 , 36343.84384384, 36382.88288288, 36421.92192192,\n",
              "       36460.96096096, 36500.        , 36539.03903904, 36578.07807808,\n",
              "       36617.11711712, 36656.15615616, 36695.1951952 , 36734.23423423,\n",
              "       36773.27327327, 36812.31231231, 36851.35135135, 36890.39039039,\n",
              "       36929.42942943, 36968.46846847, 37007.50750751, 37046.54654655,\n",
              "       37085.58558559, 37124.62462462, 37163.66366366, 37202.7027027 ,\n",
              "       37241.74174174, 37280.78078078, 37319.81981982, 37358.85885886,\n",
              "       37397.8978979 , 37436.93693694, 37475.97597598, 37515.01501502,\n",
              "       37554.05405405, 37593.09309309, 37632.13213213, 37671.17117117,\n",
              "       37710.21021021, 37749.24924925, 37788.28828829, 37827.32732733,\n",
              "       37866.36636637, 37905.40540541, 37944.44444444, 37983.48348348,\n",
              "       38022.52252252, 38061.56156156, 38100.6006006 , 38139.63963964,\n",
              "       38178.67867868, 38217.71771772, 38256.75675676, 38295.7957958 ,\n",
              "       38334.83483483, 38373.87387387, 38412.91291291, 38451.95195195,\n",
              "       38490.99099099, 38530.03003003, 38569.06906907, 38608.10810811,\n",
              "       38647.14714715, 38686.18618619, 38725.22522523, 38764.26426426,\n",
              "       38803.3033033 , 38842.34234234, 38881.38138138, 38920.42042042,\n",
              "       38959.45945946, 38998.4984985 , 39037.53753754, 39076.57657658,\n",
              "       39115.61561562, 39154.65465465, 39193.69369369, 39232.73273273,\n",
              "       39271.77177177, 39310.81081081, 39349.84984985, 39388.88888889,\n",
              "       39427.92792793, 39466.96696697, 39506.00600601, 39545.04504505,\n",
              "       39584.08408408, 39623.12312312, 39662.16216216, 39701.2012012 ,\n",
              "       39740.24024024, 39779.27927928, 39818.31831832, 39857.35735736,\n",
              "       39896.3963964 , 39935.43543544, 39974.47447447, 40013.51351351,\n",
              "       40052.55255255, 40091.59159159, 40130.63063063, 40169.66966967,\n",
              "       40208.70870871, 40247.74774775, 40286.78678679, 40325.82582583,\n",
              "       40364.86486486, 40403.9039039 , 40442.94294294, 40481.98198198,\n",
              "       40521.02102102, 40560.06006006, 40599.0990991 , 40638.13813814,\n",
              "       40677.17717718, 40716.21621622, 40755.25525526, 40794.29429429,\n",
              "       40833.33333333, 40872.37237237, 40911.41141141, 40950.45045045,\n",
              "       40989.48948949, 41028.52852853, 41067.56756757, 41106.60660661,\n",
              "       41145.64564565, 41184.68468468, 41223.72372372, 41262.76276276,\n",
              "       41301.8018018 , 41340.84084084, 41379.87987988, 41418.91891892,\n",
              "       41457.95795796, 41496.996997  , 41536.03603604, 41575.07507508,\n",
              "       41614.11411411, 41653.15315315, 41692.19219219, 41731.23123123,\n",
              "       41770.27027027, 41809.30930931, 41848.34834835, 41887.38738739,\n",
              "       41926.42642643, 41965.46546547, 42004.5045045 , 42043.54354354,\n",
              "       42082.58258258, 42121.62162162, 42160.66066066, 42199.6996997 ,\n",
              "       42238.73873874, 42277.77777778, 42316.81681682, 42355.85585586,\n",
              "       42394.89489489, 42433.93393393, 42472.97297297, 42512.01201201,\n",
              "       42551.05105105, 42590.09009009, 42629.12912913, 42668.16816817,\n",
              "       42707.20720721, 42746.24624625, 42785.28528529, 42824.32432432,\n",
              "       42863.36336336, 42902.4024024 , 42941.44144144, 42980.48048048,\n",
              "       43019.51951952, 43058.55855856, 43097.5975976 , 43136.63663664,\n",
              "       43175.67567568, 43214.71471471, 43253.75375375, 43292.79279279,\n",
              "       43331.83183183, 43370.87087087, 43409.90990991, 43448.94894895,\n",
              "       43487.98798799, 43527.02702703, 43566.06606607, 43605.10510511,\n",
              "       43644.14414414, 43683.18318318, 43722.22222222, 43761.26126126,\n",
              "       43800.3003003 , 43839.33933934, 43878.37837838, 43917.41741742,\n",
              "       43956.45645646, 43995.4954955 , 44034.53453453, 44073.57357357,\n",
              "       44112.61261261, 44151.65165165, 44190.69069069, 44229.72972973,\n",
              "       44268.76876877, 44307.80780781, 44346.84684685, 44385.88588589,\n",
              "       44424.92492492, 44463.96396396, 44503.003003  , 44542.04204204,\n",
              "       44581.08108108, 44620.12012012, 44659.15915916, 44698.1981982 ,\n",
              "       44737.23723724, 44776.27627628, 44815.31531532, 44854.35435435,\n",
              "       44893.39339339, 44932.43243243, 44971.47147147, 45010.51051051,\n",
              "       45049.54954955, 45088.58858859, 45127.62762763, 45166.66666667,\n",
              "       45205.70570571, 45244.74474474, 45283.78378378, 45322.82282282,\n",
              "       45361.86186186, 45400.9009009 , 45439.93993994, 45478.97897898,\n",
              "       45518.01801802, 45557.05705706, 45596.0960961 , 45635.13513514,\n",
              "       45674.17417417, 45713.21321321, 45752.25225225, 45791.29129129,\n",
              "       45830.33033033, 45869.36936937, 45908.40840841, 45947.44744745,\n",
              "       45986.48648649, 46025.52552553, 46064.56456456, 46103.6036036 ,\n",
              "       46142.64264264, 46181.68168168, 46220.72072072, 46259.75975976,\n",
              "       46298.7987988 , 46337.83783784, 46376.87687688, 46415.91591592,\n",
              "       46454.95495495, 46493.99399399, 46533.03303303, 46572.07207207,\n",
              "       46611.11111111, 46650.15015015, 46689.18918919, 46728.22822823,\n",
              "       46767.26726727, 46806.30630631, 46845.34534535, 46884.38438438,\n",
              "       46923.42342342, 46962.46246246, 47001.5015015 , 47040.54054054,\n",
              "       47079.57957958, 47118.61861862, 47157.65765766, 47196.6966967 ,\n",
              "       47235.73573574, 47274.77477477, 47313.81381381, 47352.85285285,\n",
              "       47391.89189189, 47430.93093093, 47469.96996997, 47509.00900901,\n",
              "       47548.04804805, 47587.08708709, 47626.12612613, 47665.16516517,\n",
              "       47704.2042042 , 47743.24324324, 47782.28228228, 47821.32132132,\n",
              "       47860.36036036, 47899.3993994 , 47938.43843844, 47977.47747748,\n",
              "       48016.51651652, 48055.55555556, 48094.59459459, 48133.63363363,\n",
              "       48172.67267267, 48211.71171171, 48250.75075075, 48289.78978979,\n",
              "       48328.82882883, 48367.86786787, 48406.90690691, 48445.94594595,\n",
              "       48484.98498498, 48524.02402402, 48563.06306306, 48602.1021021 ,\n",
              "       48641.14114114, 48680.18018018, 48719.21921922, 48758.25825826,\n",
              "       48797.2972973 , 48836.33633634, 48875.37537538, 48914.41441441,\n",
              "       48953.45345345, 48992.49249249, 49031.53153153, 49070.57057057,\n",
              "       49109.60960961, 49148.64864865, 49187.68768769, 49226.72672673,\n",
              "       49265.76576577, 49304.8048048 , 49343.84384384, 49382.88288288,\n",
              "       49421.92192192, 49460.96096096, 49500.        , 49539.03903904,\n",
              "       49578.07807808, 49617.11711712, 49656.15615616, 49695.1951952 ,\n",
              "       49734.23423423, 49773.27327327, 49812.31231231, 49851.35135135,\n",
              "       49890.39039039, 49929.42942943, 49968.46846847, 50007.50750751,\n",
              "       50046.54654655, 50085.58558559, 50124.62462462, 50163.66366366,\n",
              "       50202.7027027 , 50241.74174174, 50280.78078078, 50319.81981982,\n",
              "       50358.85885886, 50397.8978979 , 50436.93693694, 50475.97597598,\n",
              "       50515.01501502, 50554.05405405, 50593.09309309, 50632.13213213,\n",
              "       50671.17117117, 50710.21021021, 50749.24924925, 50788.28828829,\n",
              "       50827.32732733, 50866.36636637, 50905.40540541, 50944.44444444,\n",
              "       50983.48348348, 51022.52252252, 51061.56156156, 51100.6006006 ,\n",
              "       51139.63963964, 51178.67867868, 51217.71771772, 51256.75675676,\n",
              "       51295.7957958 , 51334.83483483, 51373.87387387, 51412.91291291,\n",
              "       51451.95195195, 51490.99099099, 51530.03003003, 51569.06906907,\n",
              "       51608.10810811, 51647.14714715, 51686.18618619, 51725.22522523,\n",
              "       51764.26426426, 51803.3033033 , 51842.34234234, 51881.38138138,\n",
              "       51920.42042042, 51959.45945946, 51998.4984985 , 52037.53753754,\n",
              "       52076.57657658, 52115.61561562, 52154.65465465, 52193.69369369,\n",
              "       52232.73273273, 52271.77177177, 52310.81081081, 52349.84984985,\n",
              "       52388.88888889, 52427.92792793, 52466.96696697, 52506.00600601,\n",
              "       52545.04504505, 52584.08408408, 52623.12312312, 52662.16216216,\n",
              "       52701.2012012 , 52740.24024024, 52779.27927928, 52818.31831832,\n",
              "       52857.35735736, 52896.3963964 , 52935.43543544, 52974.47447447,\n",
              "       53013.51351351, 53052.55255255, 53091.59159159, 53130.63063063,\n",
              "       53169.66966967, 53208.70870871, 53247.74774775, 53286.78678679,\n",
              "       53325.82582583, 53364.86486486, 53403.9039039 , 53442.94294294,\n",
              "       53481.98198198, 53521.02102102, 53560.06006006, 53599.0990991 ,\n",
              "       53638.13813814, 53677.17717718, 53716.21621622, 53755.25525526,\n",
              "       53794.29429429, 53833.33333333, 53872.37237237, 53911.41141141,\n",
              "       53950.45045045, 53989.48948949, 54028.52852853, 54067.56756757,\n",
              "       54106.60660661, 54145.64564565, 54184.68468468, 54223.72372372,\n",
              "       54262.76276276, 54301.8018018 , 54340.84084084, 54379.87987988,\n",
              "       54418.91891892, 54457.95795796, 54496.996997  , 54536.03603604,\n",
              "       54575.07507508, 54614.11411411, 54653.15315315, 54692.19219219,\n",
              "       54731.23123123, 54770.27027027, 54809.30930931, 54848.34834835,\n",
              "       54887.38738739, 54926.42642643, 54965.46546547, 55004.5045045 ,\n",
              "       55043.54354354, 55082.58258258, 55121.62162162, 55160.66066066,\n",
              "       55199.6996997 , 55238.73873874, 55277.77777778, 55316.81681682,\n",
              "       55355.85585586, 55394.89489489, 55433.93393393, 55472.97297297,\n",
              "       55512.01201201, 55551.05105105, 55590.09009009, 55629.12912913,\n",
              "       55668.16816817, 55707.20720721, 55746.24624625, 55785.28528529,\n",
              "       55824.32432432, 55863.36336336, 55902.4024024 , 55941.44144144,\n",
              "       55980.48048048, 56019.51951952, 56058.55855856, 56097.5975976 ,\n",
              "       56136.63663664, 56175.67567568, 56214.71471471, 56253.75375375,\n",
              "       56292.79279279, 56331.83183183, 56370.87087087, 56409.90990991,\n",
              "       56448.94894895, 56487.98798799, 56527.02702703, 56566.06606607,\n",
              "       56605.10510511, 56644.14414414, 56683.18318318, 56722.22222222,\n",
              "       56761.26126126, 56800.3003003 , 56839.33933934, 56878.37837838,\n",
              "       56917.41741742, 56956.45645646, 56995.4954955 , 57034.53453453,\n",
              "       57073.57357357, 57112.61261261, 57151.65165165, 57190.69069069,\n",
              "       57229.72972973, 57268.76876877, 57307.80780781, 57346.84684685,\n",
              "       57385.88588589, 57424.92492492, 57463.96396396, 57503.003003  ,\n",
              "       57542.04204204, 57581.08108108, 57620.12012012, 57659.15915916,\n",
              "       57698.1981982 , 57737.23723724, 57776.27627628, 57815.31531532,\n",
              "       57854.35435435, 57893.39339339, 57932.43243243, 57971.47147147,\n",
              "       58010.51051051, 58049.54954955, 58088.58858859, 58127.62762763,\n",
              "       58166.66666667, 58205.70570571, 58244.74474474, 58283.78378378,\n",
              "       58322.82282282, 58361.86186186, 58400.9009009 , 58439.93993994,\n",
              "       58478.97897898, 58518.01801802, 58557.05705706, 58596.0960961 ,\n",
              "       58635.13513514, 58674.17417417, 58713.21321321, 58752.25225225,\n",
              "       58791.29129129, 58830.33033033, 58869.36936937, 58908.40840841,\n",
              "       58947.44744745, 58986.48648649, 59025.52552553, 59064.56456456,\n",
              "       59103.6036036 , 59142.64264264, 59181.68168168, 59220.72072072,\n",
              "       59259.75975976, 59298.7987988 , 59337.83783784, 59376.87687688,\n",
              "       59415.91591592, 59454.95495495, 59493.99399399, 59533.03303303,\n",
              "       59572.07207207, 59611.11111111, 59650.15015015, 59689.18918919,\n",
              "       59728.22822823, 59767.26726727, 59806.30630631, 59845.34534535,\n",
              "       59884.38438438, 59923.42342342, 59962.46246246, 60001.5015015 ,\n",
              "       60040.54054054, 60079.57957958, 60118.61861862, 60157.65765766,\n",
              "       60196.6966967 , 60235.73573574, 60274.77477477, 60313.81381381,\n",
              "       60352.85285285, 60391.89189189, 60430.93093093, 60469.96996997,\n",
              "       60509.00900901, 60548.04804805, 60587.08708709, 60626.12612613,\n",
              "       60665.16516517, 60704.2042042 , 60743.24324324, 60782.28228228,\n",
              "       60821.32132132, 60860.36036036, 60899.3993994 , 60938.43843844,\n",
              "       60977.47747748, 61016.51651652, 61055.55555556, 61094.59459459,\n",
              "       61133.63363363, 61172.67267267, 61211.71171171, 61250.75075075,\n",
              "       61289.78978979, 61328.82882883, 61367.86786787, 61406.90690691,\n",
              "       61445.94594595, 61484.98498498, 61524.02402402, 61563.06306306,\n",
              "       61602.1021021 , 61641.14114114, 61680.18018018, 61719.21921922,\n",
              "       61758.25825826, 61797.2972973 , 61836.33633634, 61875.37537538,\n",
              "       61914.41441441, 61953.45345345, 61992.49249249, 62031.53153153,\n",
              "       62070.57057057, 62109.60960961, 62148.64864865, 62187.68768769,\n",
              "       62226.72672673, 62265.76576577, 62304.8048048 , 62343.84384384,\n",
              "       62382.88288288, 62421.92192192, 62460.96096096, 62500.        ])"
            ]
          },
          "metadata": {},
          "execution_count": 24
        }
      ]
    },
    {
      "cell_type": "markdown",
      "source": [
        "Make a new code cell below and evaluate 'y'"
      ],
      "metadata": {
        "id": "vDQPFB9AEMMR"
      }
    },
    {
      "cell_type": "code",
      "source": [
        "y"
      ],
      "metadata": {
        "colab": {
          "base_uri": "https://localhost:8080/"
        },
        "id": "pkFIKoUaDIl5",
        "outputId": "6578341e-23e2-4c08-be96-2eb03e17e642"
      },
      "execution_count": 25,
      "outputs": [
        {
          "output_type": "execute_result",
          "data": {
            "text/plain": [
              "array([[5.8],\n",
              "       [5.4],\n",
              "       [5.5],\n",
              "       [5.9],\n",
              "       [5.6],\n",
              "       [5.4],\n",
              "       [6.1],\n",
              "       [5.7],\n",
              "       [6.3],\n",
              "       [5.9],\n",
              "       [5.9],\n",
              "       [7.2],\n",
              "       [6. ],\n",
              "       [6.8],\n",
              "       [6.5],\n",
              "       [7.3],\n",
              "       [7.4],\n",
              "       [7.6],\n",
              "       [6.9],\n",
              "       [7.3],\n",
              "       [7.3],\n",
              "       [7. ],\n",
              "       [7.1],\n",
              "       [7.5],\n",
              "       [7.4],\n",
              "       [7.6],\n",
              "       [6.9]])"
            ]
          },
          "metadata": {},
          "execution_count": 25
        }
      ]
    },
    {
      "cell_type": "markdown",
      "source": [
        "### Let us plot the life satisfaction data and introduce a model"
      ],
      "metadata": {
        "id": "WGVG7gP1EcIx"
      }
    },
    {
      "cell_type": "code",
      "source": [
        "lifesat.plot(kind='scatter', grid=True,\n",
        "             x=\"GDP per capita (USD)\", y=\"Life satisfaction\")\n",
        "plt.axis([23_500, 62_500, 4, 9])\n",
        "plt.show()"
      ],
      "metadata": {
        "colab": {
          "base_uri": "https://localhost:8080/",
          "height": 460
        },
        "id": "uuQq8nUOERM8",
        "outputId": "c8032770-8b43-40c1-9bd3-f1271085b98d"
      },
      "execution_count": 14,
      "outputs": [
        {
          "output_type": "display_data",
          "data": {
            "text/plain": [
              "<Figure size 640x480 with 1 Axes>"
            ],
            "image/png": "[encoded data removed]"
          },
          "metadata": {}
        }
      ]
    },
    {
      "cell_type": "markdown",
      "source": [
        "### Excercise(s):"
      ],
      "metadata": {
        "id": "JIXI1IL6JvVm"
      }
    },
    {
      "cell_type": "markdown",
      "source": [
        "Define various 't0' and 't1' (thetas) and observe how it affects our model"
      ],
      "metadata": {
        "id": "EA7d6lEBJ4OK"
      }
    },
    {
      "cell_type": "code",
      "source": [
        "t0, t1 = 3.75, 6.78e-05\n",
        "\n",
        "from sklearn import linear_model\n",
        "min_gdp = 23_500\n",
        "max_gdp = 62_500\n",
        "min_life_sat = 4\n",
        "max_life_sat = 9\n",
        "\n",
        "lifesat.plot(kind='scatter', figsize=(5, 3), grid=True,\n",
        "                   x=\"GDP per capita (USD)\", y=\"Life satisfaction\")\n",
        "\n",
        "X = np.linspace(min_gdp, max_gdp, 1000)\n",
        "plt.plot(X, t0 + t1 * X, \"b\")\n",
        "\n",
        "plt.text(max_gdp - 20_000, min_life_sat + 1.9,\n",
        "         fr\"$\\theta_0 = {t0:.2f}$\", color=\"b\")\n",
        "plt.text(max_gdp - 20_000, min_life_sat + 1.3,\n",
        "         fr\"$\\theta_1 = {t1 * 1e5:.2f} \\times 10^{{-5}}$\", color=\"b\")\n",
        "\n",
        "plt.axis([min_gdp, max_gdp, min_life_sat, max_life_sat])\n",
        "\n",
        "plt.show()"
      ],
      "metadata": {
        "colab": {
          "base_uri": "https://localhost:8080/",
          "height": 321
        },
        "id": "HXN6ixwFIzii",
        "outputId": "ea438b2c-9e01-4a44-e386-01185754b824"
      },
      "execution_count": 15,
      "outputs": [
        {
          "output_type": "display_data",
          "data": {
            "text/plain": [
              "<Figure size 500x300 with 1 Axes>"
            ],
            "image/png": "[encoded data removed]"
          },
          "metadata": {}
        }
      ]
    },
    {
      "cell_type": "markdown",
      "source": [
        "### Establish the model"
      ],
      "metadata": {
        "id": "J0iRLACuXH79"
      }
    },
    {
      "cell_type": "code",
      "source": [
        "from sklearn import linear_model\n",
        "\n",
        "X_features = lifesat[[\"GDP per capita (USD)\"]]\n",
        "y_labels = lifesat[[\"Life satisfaction\"]]\n",
        "\n",
        "lin1 = linear_model.LinearRegression()\n",
        "lin1.fit(X_features, y_labels)\n",
        "\n",
        "t0, t1 = lin1.intercept_[0], lin1.coef_[0][0]\n",
        "print(f\"θ0={t0:.2f}, θ1={t1:.2e}\")"
      ],
      "metadata": {
        "colab": {
          "base_uri": "https://localhost:8080/"
        },
        "id": "BylN6risXh1C",
        "outputId": "e4606a09-80d2-4732-a53f-62ce530e1996"
      },
      "execution_count": 16,
      "outputs": [
        {
          "output_type": "stream",
          "name": "stdout",
          "text": [
            "θ0=3.75, θ1=6.78e-05\n"
          ]
        }
      ]
    },
    {
      "cell_type": "code",
      "source": [
        "X_pred = 40000\n",
        "y_pred = lin1.predict([[X_pred]])[0,0]"
      ],
      "metadata": {
        "colab": {
          "base_uri": "https://localhost:8080/"
        },
        "id": "i7nan8QdT8ZO",
        "outputId": "8240bbb7-ee83-4edb-db3e-7df59a6c4766"
      },
      "execution_count": 17,
      "outputs": [
        {
          "output_type": "stream",
          "name": "stderr",
          "text": [
            "/usr/local/lib/python3.10/dist-packages/sklearn/base.py:493: UserWarning: X does not have valid feature names, but LinearRegression was fitted with feature names\n",
            "  warnings.warn(\n"
          ]
        }
      ]
    },
    {
      "cell_type": "code",
      "source": [
        "y_pred"
      ],
      "metadata": {
        "colab": {
          "base_uri": "https://localhost:8080/"
        },
        "id": "xgXDykJWUgcU",
        "outputId": "a6bded4e-de08-4643-c769-bc609b2a55b0"
      },
      "execution_count": 18,
      "outputs": [
        {
          "output_type": "execute_result",
          "data": {
            "text/plain": [
              "6.4606093051133975"
            ]
          },
          "metadata": {},
          "execution_count": 18
        }
      ]
    },
    {
      "cell_type": "code",
      "source": [],
      "metadata": {
        "id": "KRCZu6w0Ub-Q"
      },
      "execution_count": 18,
      "outputs": []
    },
    {
      "cell_type": "code",
      "source": [],
      "metadata": {
        "id": "FiR8qLxZUSQ7"
      },
      "execution_count": 18,
      "outputs": []
    },
    {
      "cell_type": "code",
      "source": [
        "from sklearn import linear_model\n",
        "min_gdp = 23_500\n",
        "max_gdp = 62_500\n",
        "min_life_sat = 4\n",
        "max_life_sat = 9\n",
        "\n",
        "lifesat.plot(kind='scatter', figsize=(5, 3), grid=True,\n",
        "                   x=\"GDP per capita (USD)\", y=\"Life satisfaction\")\n",
        "\n",
        "X = np.linspace(min_gdp, max_gdp, 1000)\n",
        "plt.plot(X, t0 + t1 * X, \"b\")\n",
        "\n",
        "plt.text(max_gdp - 20_000, min_life_sat + 1.9,\n",
        "         fr\"$\\theta_0 = {t0:.2f}$\", color=\"b\")\n",
        "plt.text(max_gdp - 20_000, min_life_sat + 1.3,\n",
        "         fr\"$\\theta_1 = {t1 * 1e5:.2f} \\times 10^{{-5}}$\", color=\"b\")\n",
        "\n",
        "plt.axis([min_gdp, max_gdp, min_life_sat, max_life_sat])\n",
        "\n",
        "plt.plot([X_pred, X_pred],\n",
        "         [min_life_sat, y_pred], \"r--\")\n",
        "plt.plot(X_pred, y_pred, \"ro\")\n",
        "\n",
        "plt.show()"
      ],
      "metadata": {
        "colab": {
          "base_uri": "https://localhost:8080/",
          "height": 321
        },
        "id": "J2vqshOxZMXt",
        "outputId": "49cd38fa-efa2-4541-acf1-2a2cff3f2c60"
      },
      "execution_count": 19,
      "outputs": [
        {
          "output_type": "display_data",
          "data": {
            "text/plain": [
              "<Figure size 500x300 with 1 Axes>"
            ],
            "image/png": "[encoded data removed]"
          },
          "metadata": {}
        }
      ]
    },
    {
      "cell_type": "markdown",
      "source": [
        "### Excercise(s):\n"
      ],
      "metadata": {
        "id": "mrttlJ7yPI7m"
      }
    },
    {
      "cell_type": "markdown",
      "source": [
        "1. Try with another dataset https://raw.githubusercontent.com/jpandersen61/Machine-Learning/main/InjuredandkilledintrafikDK.csv"
      ],
      "metadata": {
        "id": "rvGBeixgPRTH"
      }
    },
    {
      "cell_type": "code",
      "source": [],
      "metadata": {
        "id": "O4NPUCygPYr3"
      },
      "execution_count": 19,
      "outputs": []
    },
    {
      "cell_type": "markdown",
      "source": [
        "### Questions"
      ],
      "metadata": {
        "id": "xpgWXfOyA23y"
      }
    },
    {
      "cell_type": "markdown",
      "source": [
        "1. How would you define Machine Learning?\n"
      ],
      "metadata": {
        "id": "rOIfHyJcA8C8"
      }
    },
    {
      "cell_type": "markdown",
      "source": [
        "Write your answer here"
      ],
      "metadata": {
        "id": "bq3i-aI1BH9Q"
      }
    },
    {
      "cell_type": "markdown",
      "source": [
        "2. Can you name four types of problems where it shines?"
      ],
      "metadata": {
        "id": "wMA1G2PPBwpU"
      }
    },
    {
      "cell_type": "markdown",
      "source": [
        "Write your answer here"
      ],
      "metadata": {
        "id": "QAcDslfMBtVj"
      }
    },
    {
      "cell_type": "markdown",
      "source": [
        "3. What is a labeled training set?"
      ],
      "metadata": {
        "id": "i0M6EMx8B71g"
      }
    },
    {
      "cell_type": "markdown",
      "source": [
        "Write your answer here"
      ],
      "metadata": {
        "id": "fipL2K_FBtin"
      }
    },
    {
      "cell_type": "markdown",
      "source": [
        "4. What are the two most common supervised tasks?"
      ],
      "metadata": {
        "id": "43FAK9O-CE8K"
      }
    },
    {
      "cell_type": "markdown",
      "source": [
        "Write your answer here"
      ],
      "metadata": {
        "id": "JjakH8_HBtmV"
      }
    },
    {
      "cell_type": "markdown",
      "source": [
        "5. Can you name four common unsupervised tasks?"
      ],
      "metadata": {
        "id": "6_5YsjSzCJes"
      }
    },
    {
      "cell_type": "markdown",
      "source": [
        "Write your answer here"
      ],
      "metadata": {
        "id": "aPFI1nvxBtp4"
      }
    },
    {
      "cell_type": "markdown",
      "source": [
        "6. What type of Machine Learning algorithm would you use to allow\n",
        "a robot to walk in various unknown terrains?\n"
      ],
      "metadata": {
        "id": "DwIRcR9YCNb5"
      }
    },
    {
      "cell_type": "markdown",
      "source": [
        "Write your answer here"
      ],
      "metadata": {
        "id": "E8SE6UvrBtuJ"
      }
    },
    {
      "cell_type": "markdown",
      "source": [
        "7. What type of algorithm would you use to segment your customers\n",
        "into multiple groups?"
      ],
      "metadata": {
        "id": "ZflRQBbbCRwX"
      }
    },
    {
      "cell_type": "markdown",
      "source": [
        "Write your answer here"
      ],
      "metadata": {
        "id": "7QcbHPkBBtwI"
      }
    },
    {
      "cell_type": "markdown",
      "source": [
        "8. Would you frame the problem of spam detection as a supervised\n",
        "learning problem or an unsupervised learning problem?"
      ],
      "metadata": {
        "id": "X0fKgGXsLq6o"
      }
    },
    {
      "cell_type": "markdown",
      "source": [
        "Write your answer here"
      ],
      "metadata": {
        "id": "nLnPVahlBty_"
      }
    },
    {
      "cell_type": "markdown",
      "source": [
        "9. What is an online learning system?\n"
      ],
      "metadata": {
        "id": "n7CHmnsdCeY3"
      }
    },
    {
      "cell_type": "markdown",
      "source": [
        "Write your answer here"
      ],
      "metadata": {
        "id": "0YRkRS_7Bt2I"
      }
    },
    {
      "cell_type": "markdown",
      "source": [
        "10. What is out-of-core learning?"
      ],
      "metadata": {
        "id": "UKkgQ_veCsN_"
      }
    },
    {
      "cell_type": "markdown",
      "source": [
        "Write your answer here"
      ],
      "metadata": {
        "id": "0raVrt27Bt5U"
      }
    },
    {
      "cell_type": "markdown",
      "source": [
        "11. What type of learning algorithm relies on a similarity measure to\n",
        "make predictions?"
      ],
      "metadata": {
        "id": "alMcqdhaCt8m"
      }
    },
    {
      "cell_type": "markdown",
      "source": [
        "Write your answer here"
      ],
      "metadata": {
        "id": "NzHnn7Q5Bt8C"
      }
    },
    {
      "cell_type": "markdown",
      "source": [
        "12. What is the difference between a model parameter and a learning\n",
        "algorithm’s hyperparameter?"
      ],
      "metadata": {
        "id": "lpvdcsj2CznS"
      }
    },
    {
      "cell_type": "markdown",
      "source": [
        "Write your answer here"
      ],
      "metadata": {
        "id": "22JFh-dABt_J"
      }
    },
    {
      "cell_type": "markdown",
      "source": [
        "13. What do model-based learning algorithms search for? What is the\n",
        "most common strategy they use to succeed? How do they make\n",
        "predictions?"
      ],
      "metadata": {
        "id": "fwVjj-WkC4U5"
      }
    },
    {
      "cell_type": "markdown",
      "source": [
        "Write your answer here"
      ],
      "metadata": {
        "id": "c8Q85u6RBuCH"
      }
    },
    {
      "cell_type": "markdown",
      "source": [
        "14. Can you name four of the main challenges in Machine Learning?"
      ],
      "metadata": {
        "id": "wkKbPfjODAj-"
      }
    },
    {
      "cell_type": "markdown",
      "source": [
        "Write your answer here"
      ],
      "metadata": {
        "id": "HznUcxBmBuFH"
      }
    }
  ]
}